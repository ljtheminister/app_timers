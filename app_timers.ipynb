{
 "cells": [
  {
   "cell_type": "code",
   "execution_count": 4,
   "metadata": {
    "collapsed": true
   },
   "outputs": [],
   "source": [
    "import pandas as pd\n",
    "import numpy as np\n",
    "import json"
   ]
  },
  {
   "cell_type": "code",
   "execution_count": 23,
   "metadata": {
    "collapsed": false,
    "scrolled": true
   },
   "outputs": [],
   "source": [
    "# read json file line by line into array\n",
    "data = []\n",
    "with open('app-timers.json') as f:\n",
    "    for line in f:\n",
    "        data.append(json.loads(line))"
   ]
  },
  {
   "cell_type": "code",
   "execution_count": 17,
   "metadata": {
    "collapsed": false
   },
   "outputs": [],
   "source": [
    "df = pd.DataFrame(data)"
   ]
  },
  {
   "cell_type": "code",
   "execution_count": 19,
   "metadata": {
    "collapsed": false
   },
   "outputs": [
    {
     "data": {
      "text/plain": [
       "Index([u'$app_version', u'TimerAppLaunchDownloading', u'TimerAppLaunchDownloadingApiVersion', u'TimerAppLaunchDownloadingFBGraphUser', u'TimerAppLaunchDownloadingMatches', u'TimerAppLaunchDownloadingPotentials', u'TimerAppLaunchInitializing', u'TimerAppLaunchPubNub', u'TimerAppLaunchRendering', u'TimerAppLaunchStartup', u'TimerAppLaunchVisible', u'TimerAppResumeVisible', u'TimerBatchPhotoLoadTime', u'TimerMatchProfileCoverPhotoLoadTime', u'TimerMatchProfileDetailsVisible', u'TimerMatchProfileFirstPhotoLoadTime', u'TimerMatchProfileFullyVisible', u'TimerMatchProfileShellVisible', u'TimerMutualFriendPhotoLoadTime', u'TimerPotentialProfileCoverPhotoLoadTime', u'TimerPotentialProfileDetailsVisible', u'TimerPotentialProfileFirstPhotoLoadTime', u'TimerPotentialProfileFullyVisible', u'TimerPotentialProfileShellVisible', u'TimerProfileCarouselPhotoCropTime', u'TimerProfileCarouselPhotoDownloadTime', u'TimerProfileCarouselPhotoGetFromCacheTime', u'TimerProfileCarouselPhotoLoadTime', u'TimerProfileCoverPhotoLoadTime', u'TimerProfileFirstPhotoLoadTime', u'TimerRegistrationLoadingCarouselDuration', u'time'], dtype='object')"
      ]
     },
     "execution_count": 19,
     "metadata": {},
     "output_type": "execute_result"
    }
   ],
   "source": [
    "df.columns"
   ]
  }
 ],
 "metadata": {
  "kernelspec": {
   "display_name": "Python 2",
   "language": "python",
   "name": "python2"
  },
  "language_info": {
   "codemirror_mode": {
    "name": "ipython",
    "version": 2
   },
   "file_extension": ".py",
   "mimetype": "text/x-python",
   "name": "python",
   "nbconvert_exporter": "python",
   "pygments_lexer": "ipython2",
   "version": "2.7.8"
  }
 },
 "nbformat": 4,
 "nbformat_minor": 0
}
